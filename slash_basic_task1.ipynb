{
  "nbformat": 4,
  "nbformat_minor": 0,
  "metadata": {
    "colab": {
      "provenance": [],
      "authorship_tag": "ABX9TyNK9V1vwjGmgkkedPiwnI43",
      "include_colab_link": true
    },
    "kernelspec": {
      "name": "python3",
      "display_name": "Python 3"
    },
    "language_info": {
      "name": "python"
    }
  },
  "cells": [
    {
      "cell_type": "markdown",
      "metadata": {
        "id": "view-in-github",
        "colab_type": "text"
      },
      "source": [
        "<a href=\"https://colab.research.google.com/github/mthanmai5/salsh/blob/main/slash_basic_task1.ipynb\" target=\"_parent\"><img src=\"https://colab.research.google.com/assets/colab-badge.svg\" alt=\"Open In Colab\"/></a>"
      ]
    },
    {
      "cell_type": "code",
      "execution_count": null,
      "metadata": {
        "colab": {
          "base_uri": "https://localhost:8080/"
        },
        "id": "0DVetJFxt4np",
        "outputId": "a91a027f-aed0-43f9-eefa-cafc0799987f"
      },
      "outputs": [
        {
          "metadata": {
            "tags": null
          },
          "name": "stdout",
          "output_type": "stream",
          "text": [
            "\n",
            "Task Manager Menu:\n",
            "1. Add Task\n",
            "2. Remove Task\n",
            "3. List Tasks\n",
            "4. Prioritize Tasks\n",
            "5. Recommend Task\n",
            "6. Exit\n"
          ]
        }
      ],
      "source": [
        "class Task:\n",
        "    def __init__(self, description, priority):\n",
        "        self.description = description\n",
        "        self.priority = priority\n",
        "\n",
        "class TaskManager:\n",
        "    def __init__(self):\n",
        "        self.tasks = []\n",
        "\n",
        "    def add_task(self, description, priority):\n",
        "        task = Task(description, priority)\n",
        "        self.tasks.append(task)\n",
        "        print(\"Task added successfully.\")\n",
        "\n",
        "    def remove_task(self, index):\n",
        "        if 0 <= index < len(self.tasks):\n",
        "            del self.tasks[index]\n",
        "            print(\"Task removed successfully.\")\n",
        "        else:\n",
        "            print(\"Invalid task index.\")\n",
        "\n",
        "    def list_tasks(self):\n",
        "        if not self.tasks:\n",
        "            print(\"No tasks.\")\n",
        "        else:\n",
        "            print(\"Tasks:\")\n",
        "            for i, task in enumerate(self.tasks):\n",
        "                print(f\"{i+1}. {task.description} - Priority: {task.priority}\")\n",
        "\n",
        "    def prioritize_tasks(self):\n",
        "        if not self.tasks:\n",
        "            print(\"No tasks to prioritize.\")\n",
        "            return\n",
        "\n",
        "        self.tasks.sort(key=lambda x: x.priority, reverse=True)\n",
        "        print(\"Tasks prioritized successfully.\")\n",
        "\n",
        "    def recommend_task(self, keyword):\n",
        "        relevant_tasks = [task for task in self.tasks if keyword.lower() in task.description.lower()]\n",
        "        if relevant_tasks:\n",
        "            relevant_tasks.sort(key=lambda x: x.priority, reverse=True)\n",
        "            print(f\"Recommended task: {relevant_tasks[0].description}\")\n",
        "        else:\n",
        "            print(\"No matching tasks found.\")\n",
        "\n",
        "def main():\n",
        "    manager = TaskManager()\n",
        "\n",
        "    while True:\n",
        "        print(\"\\nTask Manager Menu:\")\n",
        "        print(\"1. Add Task\")\n",
        "        print(\"2. Remove Task\")\n",
        "        print(\"3. List Tasks\")\n",
        "        print(\"4. Prioritize Tasks\")\n",
        "        print(\"5. Recommend Task\")\n",
        "        print(\"6. Exit\")\n",
        "\n",
        "        choice = input(\"Enter your choice: \")\n",
        "\n",
        "        if choice == \"1\":\n",
        "            description = input(\"Enter task description: \")\n",
        "            priority = int(input(\"Enter task priority (1-10): \"))\n",
        "            manager.add_task(description, priority)\n",
        "        elif choice == \"2\":\n",
        "            index = int(input(\"Enter task index to remove: \")) - 1\n",
        "            manager.remove_task(index)\n",
        "        elif choice == \"3\":\n",
        "            manager.list_tasks()\n",
        "        elif choice == \"4\":\n",
        "            manager.prioritize_tasks()\n",
        "        elif choice == \"5\":\n",
        "            keyword = input(\"Enter keyword for task recommendation: \")\n",
        "            manager.recommend_task(keyword)\n",
        "        elif choice == \"6\":\n",
        "            print(\"Exiting...\")\n",
        "            break\n",
        "        else:\n",
        "            print(\"Invalid choice. Please try again.\")\n",
        "\n",
        "if __name__ == \"__main__\":\n",
        "    main()"
      ]
    }
  ]
}